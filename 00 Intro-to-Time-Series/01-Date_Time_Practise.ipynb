{
 "cells": [
  {
   "cell_type": "code",
   "execution_count": 3,
   "id": "6cc9d84a-ae2f-4570-b57a-fe6b0819da9e",
   "metadata": {},
   "outputs": [],
   "source": [
    "#import the entire Module\n",
    "import datetime"
   ]
  },
  {
   "cell_type": "markdown",
   "id": "ae566c50-cda5-4fc7-ae06-0e7a7d07dfc3",
   "metadata": {},
   "source": [
    "## datetime as time object "
   ]
  },
  {
   "cell_type": "code",
   "execution_count": 9,
   "id": "5638b4e7-1c08-41d8-96af-83ef982b2d11",
   "metadata": {},
   "outputs": [],
   "source": [
    "tm = datetime.time(hour=5,minute=25,second=1)"
   ]
  },
  {
   "cell_type": "code",
   "execution_count": 11,
   "id": "b1d289f8-4877-4b3d-9793-52ee818df33d",
   "metadata": {},
   "outputs": [
    {
     "data": {
      "text/plain": [
       "datetime.time(5, 25, 1)"
      ]
     },
     "execution_count": 11,
     "metadata": {},
     "output_type": "execute_result"
    }
   ],
   "source": [
    "tm"
   ]
  },
  {
   "cell_type": "code",
   "execution_count": 13,
   "id": "917b5899-ad6c-4c8b-9b72-fcbae03afe50",
   "metadata": {},
   "outputs": [],
   "source": [
    "tm1= datetime.time(5,25,23)"
   ]
  },
  {
   "cell_type": "code",
   "execution_count": 15,
   "id": "47bb99aa-a421-4de5-86db-e0ce75f8d938",
   "metadata": {},
   "outputs": [
    {
     "data": {
      "text/plain": [
       "datetime.time(5, 25, 23)"
      ]
     },
     "execution_count": 15,
     "metadata": {},
     "output_type": "execute_result"
    }
   ],
   "source": [
    "tm1"
   ]
  },
  {
   "cell_type": "code",
   "execution_count": 17,
   "id": "0a4d7870-81f8-4cfc-b080-9d601defa9b2",
   "metadata": {},
   "outputs": [
    {
     "data": {
      "text/plain": [
       "datetime.time"
      ]
     },
     "execution_count": 17,
     "metadata": {},
     "output_type": "execute_result"
    }
   ],
   "source": [
    "type(tm)"
   ]
  },
  {
   "cell_type": "code",
   "execution_count": 19,
   "id": "5ad888ff-bba2-48a4-b223-6cc83eb8717d",
   "metadata": {},
   "outputs": [
    {
     "data": {
      "text/plain": [
       "datetime.time"
      ]
     },
     "execution_count": 19,
     "metadata": {},
     "output_type": "execute_result"
    }
   ],
   "source": [
    "type(tm1)"
   ]
  },
  {
   "cell_type": "markdown",
   "id": "0329f0fb-a6ad-4aa1-abf8-23192ece1d87",
   "metadata": {},
   "source": [
    "## datetime as date object "
   ]
  },
  {
   "cell_type": "code",
   "execution_count": 33,
   "id": "3018caf4-f9c1-40c5-8abf-3bdcd9b7477e",
   "metadata": {},
   "outputs": [],
   "source": [
    "td = datetime.date(year=2025,month=1,day=29)"
   ]
  },
  {
   "cell_type": "code",
   "execution_count": 35,
   "id": "6b44c347-d12b-4e64-b7cd-b51ff24301b0",
   "metadata": {},
   "outputs": [
    {
     "data": {
      "text/plain": [
       "datetime.date(2025, 1, 29)"
      ]
     },
     "execution_count": 35,
     "metadata": {},
     "output_type": "execute_result"
    }
   ],
   "source": [
    "td"
   ]
  },
  {
   "cell_type": "code",
   "execution_count": 37,
   "id": "cf6403f1-8997-4652-8c7f-7264c9872892",
   "metadata": {},
   "outputs": [
    {
     "data": {
      "text/plain": [
       "datetime.date"
      ]
     },
     "execution_count": 37,
     "metadata": {},
     "output_type": "execute_result"
    }
   ],
   "source": [
    "type(td)"
   ]
  },
  {
   "cell_type": "markdown",
   "id": "6b123f28-92cb-4ce2-b559-2622011b9fc1",
   "metadata": {},
   "source": [
    "## datetime datetime object "
   ]
  },
  {
   "cell_type": "code",
   "execution_count": 42,
   "id": "8cb350ff-0b43-402e-bd70-353e63835e99",
   "metadata": {},
   "outputs": [],
   "source": [
    "dt = datetime.datetime(1997,9,30,5,25,23)"
   ]
  },
  {
   "cell_type": "code",
   "execution_count": 44,
   "id": "e1e528be-3f93-42fb-a057-20f7f700bbb3",
   "metadata": {},
   "outputs": [
    {
     "data": {
      "text/plain": [
       "datetime.datetime(1997, 9, 30, 5, 25, 23)"
      ]
     },
     "execution_count": 44,
     "metadata": {},
     "output_type": "execute_result"
    }
   ],
   "source": [
    "dt"
   ]
  },
  {
   "cell_type": "code",
   "execution_count": 46,
   "id": "aeef93a7-209e-484f-9692-8f4f88654dd9",
   "metadata": {},
   "outputs": [
    {
     "data": {
      "text/plain": [
       "datetime.datetime"
      ]
     },
     "execution_count": 46,
     "metadata": {},
     "output_type": "execute_result"
    }
   ],
   "source": [
    "type(dt)"
   ]
  },
  {
   "cell_type": "code",
   "execution_count": 50,
   "id": "8943c36d-0ecc-4878-bcb3-bce491102cc2",
   "metadata": {},
   "outputs": [],
   "source": [
    "dt1 = datetime.datetime(2025,1,29)"
   ]
  },
  {
   "cell_type": "code",
   "execution_count": 52,
   "id": "ceaf6f29-f27f-4fb3-9e9c-144af597c8a1",
   "metadata": {},
   "outputs": [
    {
     "data": {
      "text/plain": [
       "datetime.datetime(2025, 1, 29, 0, 0)"
      ]
     },
     "execution_count": 52,
     "metadata": {},
     "output_type": "execute_result"
    }
   ],
   "source": [
    "dt1"
   ]
  },
  {
   "cell_type": "code",
   "execution_count": 54,
   "id": "13c0caa3-404a-436a-ad9b-22b7f9a9bcef",
   "metadata": {},
   "outputs": [
    {
     "name": "stdout",
     "output_type": "stream",
     "text": [
      "2025-01-29 00:00:00\n"
     ]
    }
   ],
   "source": [
    "print(dt1)"
   ]
  },
  {
   "cell_type": "code",
   "execution_count": 56,
   "id": "22e38364-9b37-4080-9a68-f269b1a89a16",
   "metadata": {},
   "outputs": [],
   "source": [
    "from datetime import datetime,date,time\n",
    "d=datetime(2025,1,30)"
   ]
  },
  {
   "cell_type": "code",
   "execution_count": 58,
   "id": "79c5cdc6-f5c5-4d91-8962-3a9109c6f0fb",
   "metadata": {},
   "outputs": [
    {
     "name": "stdout",
     "output_type": "stream",
     "text": [
      "2025-01-30 00:00:00\n"
     ]
    }
   ],
   "source": [
    "print(d)"
   ]
  },
  {
   "cell_type": "markdown",
   "id": "493a99e5-a2fd-4c80-864f-b83fc6c81d11",
   "metadata": {},
   "source": [
    "## `date`, `time`, and `datetime` components\n",
    "We can access specific elements of the date and time within each object."
   ]
  },
  {
   "cell_type": "code",
   "execution_count": 61,
   "id": "52b7f3c4-23c2-4908-8cbf-4f220ad43706",
   "metadata": {},
   "outputs": [
    {
     "name": "stdout",
     "output_type": "stream",
     "text": [
      "05:25:01\n",
      "1\n"
     ]
    }
   ],
   "source": [
    "print(tm)\n",
    "print(tm.second)"
   ]
  },
  {
   "cell_type": "code",
   "execution_count": 63,
   "id": "634d17a2-8510-4f81-b104-d7303e2f1b8e",
   "metadata": {},
   "outputs": [
    {
     "name": "stdout",
     "output_type": "stream",
     "text": [
      "05:25:01\n",
      "25\n"
     ]
    }
   ],
   "source": [
    "print(tm)\n",
    "print(tm.minute)"
   ]
  },
  {
   "cell_type": "code",
   "execution_count": 65,
   "id": "4ba523bf-3d86-4593-a2c3-9754e24640a8",
   "metadata": {},
   "outputs": [
    {
     "name": "stdout",
     "output_type": "stream",
     "text": [
      "2025-01-29\n",
      "29\n"
     ]
    }
   ],
   "source": [
    "print(td)\n",
    "print(td.day)"
   ]
  },
  {
   "cell_type": "code",
   "execution_count": 67,
   "id": "9f311415-a5c4-4369-a8ca-9f6c4fa25e61",
   "metadata": {},
   "outputs": [
    {
     "name": "stdout",
     "output_type": "stream",
     "text": [
      "1997-09-30 05:25:23\n",
      "9\n"
     ]
    }
   ],
   "source": [
    "print(dt)\n",
    "print(dt.month)"
   ]
  },
  {
   "cell_type": "markdown",
   "id": "e51e9bc2-4f94-4fc4-a8ed-8a6b195e5be2",
   "metadata": {},
   "source": [
    "## Today's date\n",
    "Both `date` and `datetime` objects offer a `.today()` method that returns the current date as determined by the computer system clock."
   ]
  },
  {
   "cell_type": "code",
   "execution_count": 70,
   "id": "38bc0d9c-68b7-46e6-9ac5-73d072750112",
   "metadata": {},
   "outputs": [
    {
     "name": "stdout",
     "output_type": "stream",
     "text": [
      "2025-01-29 03:27:31.555969\n"
     ]
    }
   ],
   "source": [
    "print(dt.today())"
   ]
  },
  {
   "cell_type": "code",
   "execution_count": 72,
   "id": "2fad1154-fe2d-43aa-9201-5a89bbe3965b",
   "metadata": {},
   "outputs": [
    {
     "ename": "AttributeError",
     "evalue": "'datetime.time' object has no attribute 'today'",
     "output_type": "error",
     "traceback": [
      "\u001b[1;31m---------------------------------------------------------------------------\u001b[0m",
      "\u001b[1;31mAttributeError\u001b[0m                            Traceback (most recent call last)",
      "Cell \u001b[1;32mIn[72], line 1\u001b[0m\n\u001b[1;32m----> 1\u001b[0m \u001b[38;5;28mprint\u001b[39m(tm\u001b[38;5;241m.\u001b[39mtoday())\n",
      "\u001b[1;31mAttributeError\u001b[0m: 'datetime.time' object has no attribute 'today'"
     ]
    }
   ],
   "source": [
    "print(tm.today())"
   ]
  },
  {
   "cell_type": "code",
   "execution_count": 74,
   "id": "4c0fdb0f-1c5c-4651-a27c-4bd8d3306eea",
   "metadata": {},
   "outputs": [
    {
     "name": "stdout",
     "output_type": "stream",
     "text": [
      "2025-01-29\n"
     ]
    }
   ],
   "source": [
    "print(td.today())"
   ]
  },
  {
   "cell_type": "markdown",
   "id": "4c566730-161a-4905-900e-7efe1ba3a24f",
   "metadata": {},
   "source": [
    "**`d.weekday()`** returns the day of the week as an integer, where Monday is 0 and Sunday is 6"
   ]
  },
  {
   "cell_type": "code",
   "execution_count": 77,
   "id": "e53eb1b3-2e0e-4b65-b97d-729474aa380f",
   "metadata": {},
   "outputs": [
    {
     "name": "stdout",
     "output_type": "stream",
     "text": [
      "1\n"
     ]
    }
   ],
   "source": [
    "print(dt.weekday())"
   ]
  },
  {
   "cell_type": "code",
   "execution_count": 79,
   "id": "ea474df2-606b-436b-97fc-3ebf2ceae7c8",
   "metadata": {},
   "outputs": [
    {
     "name": "stdout",
     "output_type": "stream",
     "text": [
      "2\n"
     ]
    }
   ],
   "source": [
    "print(dt.isoweekday())"
   ]
  },
  {
   "cell_type": "code",
   "execution_count": 81,
   "id": "96c757bf-41cd-4f69-9e14-530e8adb5e44",
   "metadata": {},
   "outputs": [
    {
     "data": {
      "text/plain": [
       "datetime.datetime(1978, 3, 30, 5, 25, 23)"
      ]
     },
     "execution_count": 81,
     "metadata": {},
     "output_type": "execute_result"
    }
   ],
   "source": [
    "dt.replace(year=1978,month=3)"
   ]
  },
  {
   "cell_type": "markdown",
   "id": "834e9903-0552-41ea-bde5-fbbc83c1b1f2",
   "metadata": {},
   "source": [
    "**`d.replace()`** returns a modified copy of the original, permitting substitutions for any date/time attribute"
   ]
  },
  {
   "cell_type": "markdown",
   "id": "edc6dfa3-6749-4773-874a-d05a34de150f",
   "metadata": {},
   "source": [
    "## Time tuples\n",
    "`datetime.timetuple()` returns a named tuple of values. Note that `date.timetuple()` returns 0 values for time elements."
   ]
  },
  {
   "cell_type": "code",
   "execution_count": 90,
   "id": "f0242ec7-2f97-4980-96eb-5fb4a0fecc78",
   "metadata": {},
   "outputs": [],
   "source": [
    "r= date(2025,1,29)\n",
    "s = datetime(2025,1,29,3,37,55)"
   ]
  },
  {
   "cell_type": "code",
   "execution_count": 92,
   "id": "446a4d5b-b2b7-46dc-a459-23ebad6e7cf9",
   "metadata": {},
   "outputs": [
    {
     "data": {
      "text/plain": [
       "time.struct_time(tm_year=2025, tm_mon=1, tm_mday=29, tm_hour=0, tm_min=0, tm_sec=0, tm_wday=2, tm_yday=29, tm_isdst=-1)"
      ]
     },
     "execution_count": 92,
     "metadata": {},
     "output_type": "execute_result"
    }
   ],
   "source": [
    "r.timetuple()"
   ]
  },
  {
   "cell_type": "code",
   "execution_count": 96,
   "id": "21d21be1-ad75-475d-9e2d-3418cca8411a",
   "metadata": {},
   "outputs": [
    {
     "data": {
      "text/plain": [
       "time.struct_time(tm_year=2025, tm_mon=1, tm_mday=29, tm_hour=3, tm_min=37, tm_sec=55, tm_wday=2, tm_yday=29, tm_isdst=-1)"
      ]
     },
     "execution_count": 96,
     "metadata": {},
     "output_type": "execute_result"
    }
   ],
   "source": [
    "s.timetuple()"
   ]
  },
  {
   "cell_type": "code",
   "execution_count": null,
   "id": "0504a51a-3328-4d70-b179-1e61bc2e11a8",
   "metadata": {},
   "outputs": [],
   "source": []
  }
 ],
 "metadata": {
  "kernelspec": {
   "display_name": "Python [conda env:base] *",
   "language": "python",
   "name": "conda-base-py"
  },
  "language_info": {
   "codemirror_mode": {
    "name": "ipython",
    "version": 3
   },
   "file_extension": ".py",
   "mimetype": "text/x-python",
   "name": "python",
   "nbconvert_exporter": "python",
   "pygments_lexer": "ipython3",
   "version": "3.12.7"
  }
 },
 "nbformat": 4,
 "nbformat_minor": 5
}
